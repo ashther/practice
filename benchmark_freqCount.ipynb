{
 "cells": [
  {
   "cell_type": "code",
   "execution_count": 1,
   "metadata": {
    "collapsed": false
   },
   "outputs": [],
   "source": [
    "test = []\n",
    "with open('../R Scripts/tableTest.txt') as fp:\n",
    "    for line in fp:\n",
    "        test.append(line[:-1])"
   ]
  },
  {
   "cell_type": "code",
   "execution_count": 21,
   "metadata": {
    "collapsed": false
   },
   "outputs": [
    {
     "name": "stdout",
     "output_type": "stream",
     "text": [
      "19\n",
      "19\n",
      "19\n",
      "19\n",
      "1 loop, best of 3: 2.67 s per loop\n"
     ]
    }
   ],
   "source": [
    "%%timeit \n",
    "from collections import Counter\n",
    "freqs = Counter(test)\n",
    "print(freqs['gkaq'])"
   ]
  },
  {
   "cell_type": "code",
   "execution_count": 24,
   "metadata": {
    "collapsed": false
   },
   "outputs": [
    {
     "name": "stdout",
     "output_type": "stream",
     "text": [
      "19\n",
      "19\n",
      "19\n",
      "19\n",
      "1 loop, best of 3: 3.27 s per loop\n"
     ]
    }
   ],
   "source": [
    "%%timeit\n",
    "\n",
    "from collections import defaultdict\n",
    "d = defaultdict(int)\n",
    "for word in test:\n",
    "    d[word] += 1\n",
    "print(d['gkaq'])"
   ]
  },
  {
   "cell_type": "code",
   "execution_count": 31,
   "metadata": {
    "collapsed": false
   },
   "outputs": [
    {
     "name": "stdout",
     "output_type": "stream",
     "text": [
      "[19]\n",
      "[19]\n",
      "[19]\n",
      "[19]\n",
      "1 loop, best of 3: 2.49 s per loop\n"
     ]
    }
   ],
   "source": [
    "%%timeit \n",
    "\n",
    "import numpy as np\n",
    "test_np = np.asarray(test)\n",
    "term_name, term_freqs = np.unique(test_np, return_counts=True)\n",
    "freqs_np = np.asarray((term_name, term_freqs)).T\n",
    "print([int(_) for _ in freqs_np[np.where(freqs_np == 'gkaq')[0], 1]])"
   ]
  },
  {
   "cell_type": "code",
   "execution_count": 14,
   "metadata": {
    "collapsed": false
   },
   "outputs": [
    {
     "name": "stdout",
     "output_type": "stream",
     "text": [
      "gkaq 19\n",
      "nksn 21\n",
      "rqjo 23\n",
      "smfa 28\n",
      "nljd 20\n"
     ]
    }
   ],
   "source": [
    "i = 0\n",
    "for k,v in d.items():\n",
    "    if i < 5:\n",
    "        print(k, v)\n",
    "        i += 1"
   ]
  }
 ],
 "metadata": {
  "anaconda-cloud": {},
  "kernelspec": {
   "display_name": "Python [conda root]",
   "language": "python",
   "name": "conda-root-py"
  },
  "language_info": {
   "codemirror_mode": {
    "name": "ipython",
    "version": 3
   },
   "file_extension": ".py",
   "mimetype": "text/x-python",
   "name": "python",
   "nbconvert_exporter": "python",
   "pygments_lexer": "ipython3",
   "version": "3.5.2"
  }
 },
 "nbformat": 4,
 "nbformat_minor": 1
}
